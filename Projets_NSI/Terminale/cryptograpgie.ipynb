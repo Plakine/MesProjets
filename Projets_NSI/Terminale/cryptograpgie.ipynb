{
 "cells": [
  {
   "cell_type": "code",
   "execution_count": 1,
   "metadata": {},
   "outputs": [],
   "source": [
    "from random import randint\n",
    "from math import gcd\n",
    "\n",
    "def eu_etend(r, r1, u=1, v=0, u1=0, v1=1):\n",
    "    if r1>0:\n",
    "        q = r//r1\n",
    "        return eu_etend(r1, (r-q*r1), u1, v1, (u-u1*q), (v-v1*q))\n",
    "    else:\n",
    "        return (u, v)\n",
    "\n",
    "\n",
    "def phi(p, q):\n",
    "    return (p-1)*(q-1)\n",
    "\n",
    "def get_e(phn):\n",
    "    r = randint(0, 50)\n",
    "    i = 0\n",
    "    while True:\n",
    "        if gcd(i, phn) == 1:\n",
    "            if r > 0:\n",
    "                r -= 1\n",
    "            else:\n",
    "                return i \n",
    "        i += 1\n",
    "\n",
    "def print_cles(p, q):\n",
    "    phn = phi(p, q)\n",
    "    while 1:\n",
    "        e = get_e(phn)\n",
    "        if e > phn:\n",
    "            d = eu_etend(e, phn)[0]\n",
    "        else:\n",
    "            d = eu_etend(phn, e)[1]\n",
    "        if d > 0:\n",
    "            break\n",
    "    return ((d, p*q), (e, p*q))"
   ]
  },
  {
   "cell_type": "code",
   "execution_count": 2,
   "metadata": {},
   "outputs": [
    {
     "data": {
      "text/plain": [
       "49"
      ]
     },
     "execution_count": 2,
     "metadata": {},
     "output_type": "execute_result"
    }
   ],
   "source": [
    "get_e(20)"
   ]
  },
  {
   "cell_type": "code",
   "execution_count": null,
   "metadata": {},
   "outputs": [],
   "source": []
  }
 ],
 "metadata": {
  "kernelspec": {
   "display_name": "Python 3",
   "language": "python",
   "name": "python3"
  },
  "language_info": {
   "codemirror_mode": {
    "name": "ipython",
    "version": 3
   },
   "file_extension": ".py",
   "mimetype": "text/x-python",
   "name": "python",
   "nbconvert_exporter": "python",
   "pygments_lexer": "ipython3",
   "version": "3.11.3"
  }
 },
 "nbformat": 4,
 "nbformat_minor": 2
}
